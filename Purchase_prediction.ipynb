{
 "cells": [
  {
   "cell_type": "markdown",
   "metadata": {
    "collapsed": false
   },
   "source": [
    "**飞桨常规赛: MarTech Challenge 用户购买预测 8月第六名方案**"
   ]
  },
  {
   "cell_type": "code",
   "execution_count": null,
   "metadata": {
    "collapsed": false
   },
   "outputs": [],
   "source": [
    "# 查看当前挂载的数据集目录, 该目录下的变更重启环境后会自动还原\n",
    "# View dataset directory. \n",
    "# This directory will be recovered automatically after resetting environment. \n",
    "!ls /home/aistudio/data"
   ]
  },
  {
   "cell_type": "code",
   "execution_count": 0,
   "metadata": {
    "collapsed": false
   },
   "outputs": [],
   "source": [
    "# 查看工作区文件, 该目录下的变更将会持久保存. 请及时清理不必要的文件, 避免加载过慢.\n",
    "# View personal work directory. \n",
    "# All changes under this directory will be kept even after reset. \n",
    "# Please clean unnecessary files in time to speed up environment loading. \n",
    "!ls /home/aistudio/work"
   ]
  },
  {
   "cell_type": "code",
   "execution_count": null,
   "metadata": {
    "collapsed": false
   },
   "outputs": [],
   "source": [
    "# 如果需要进行持久化安装, 需要使用持久化路径, 如下方代码示例:\n",
    "# If a persistence installation is required, \n",
    "# you need to use the persistence path as the following: \n",
    "!mkdir /home/aistudio/external-libraries\n",
    "!pip install beautifulsoup4 -t /home/aistudio/external-libraries"
   ]
  },
  {
   "cell_type": "code",
   "execution_count": null,
   "metadata": {
    "collapsed": false
   },
   "outputs": [],
   "source": [
    "# 同时添加如下代码, 这样每次环境(kernel)启动的时候只要运行下方代码即可: \n",
    "# Also add the following code, \n",
    "# so that every time the environment (kernel) starts, \n",
    "# just run the following code: \n",
    "import sys \n",
    "sys.path.append('/home/aistudio/external-libraries')"
   ]
  },
  {
   "cell_type": "markdown",
   "metadata": {
    "collapsed": false
   },
   "source": [
    "解题思路:\n",
    "数据探索: 发现存在会员信息列存在大量空值, 大量空值做单独处理, 省份城市列少量空值, 可以作为特征处理\n",
    "数据预处理: 空值处理, 异常值处理\n",
    "数据集分割: 由于是预测历史用户在9月是否购买, 因此模型训练可以用7月数据去预测8月来作为训练, 全量数据来预测9月数据作为测试; 其中\n",
    "特征工程:\n",
    "* 由于数据量庞大, 可以用来训练多特征, 因此, 在特征工程中主要思路还是以多构造辅助特征为主;\n",
    "* 从商品角度, 订单. 交易金额角度, 进行了多钟数据维度的构造, 包括均值,标准差等\n",
    "* 对用户基本信息如城市, 消费习惯(偏好的消费时间可能会影响到他的客户黏性,) 因此, 构造了多尺度去\n",
    "* 多构造时间多尺度特征, 我们认为商品的新鲜度对用户购买也有影响, 因此构造了上下架时间等;\n",
    "模型训练: 采用lgb模型, 利用早停法训练. 采用标准lgb.train模型, 由于样本严重不均衡, 因此保留了预测的原概率输出, 手动调整阈值;\n",
    "模型观测: \n",
    "* 在训练过程中, 模型最收敛AUC0.83 训练集, 测试集0.8 , 结果较好; 保存参数, 用来预测;\n",
    "* 由于样本严重不均衡,考虑到8月涌入了15万新用户, 9月也是销售的旺季, 因此设置了一个较大值, 最终预测结果对阈值进行了观测调整, 以达到一个较优值;\n",
    "\n"
   ]
  },
  {
   "cell_type": "code",
   "execution_count": 1,
   "metadata": {
    "collapsed": false
   },
   "outputs": [
    {
     "data": {
      "text/html": [
       "<style type='text/css'>\n",
       ".datatable table.frame { margin-bottom: 0; }\n",
       ".datatable table.frame thead { border-bottom: none; }\n",
       ".datatable table.frame tr.coltypes td {  color: #FFFFFF;  line-height: 6px;  padding: 0 0.5em;}\n",
       ".datatable .bool    { background: #DDDD99; }\n",
       ".datatable .object  { background: #565656; }\n",
       ".datatable .int     { background: #5D9E5D; }\n",
       ".datatable .float   { background: #4040CC; }\n",
       ".datatable .str     { background: #CC4040; }\n",
       ".datatable .row_index {  background: var(--jp-border-color3);  border-right: 1px solid var(--jp-border-color0);  color: var(--jp-ui-font-color3);  font-size: 9px;}\n",
       ".datatable .frame tr.coltypes .row_index {  background: var(--jp-border-color0);}\n",
       ".datatable th:nth-child(2) { padding-left: 12px; }\n",
       ".datatable .hellipsis {  color: var(--jp-cell-editor-border-color);}\n",
       ".datatable .vellipsis {  background: var(--jp-layout-color0);  color: var(--jp-cell-editor-border-color);}\n",
       ".datatable .na {  color: var(--jp-cell-editor-border-color);  font-size: 80%;}\n",
       ".datatable .footer { font-size: 9px; }\n",
       ".datatable .frame_dimensions {  background: var(--jp-border-color3);  border-top: 1px solid var(--jp-border-color0);  color: var(--jp-ui-font-color3);  display: inline-block;  opacity: 0.6;  padding: 1px 10px 1px 5px;}\n",
       "</style>\n"
      ],
      "text/plain": [
       "<IPython.core.display.HTML object>"
      ]
     },
     "metadata": {},
     "output_type": "display_data"
    }
   ],
   "source": [
    "import pandas as pd\n",
    "import numpy as np\n",
    "import pickle\n",
    "from sklearn.preprocessing import LabelEncoder\n",
    "from sklearn.model_selection import train_test_split\n",
    "import lightgbm as lgb\n",
    "from sklearn.model_selection import KFold\n",
    "import matplotlib.pyplot as plt"
   ]
  },
  {
   "cell_type": "code",
   "execution_count": 2,
   "metadata": {
    "collapsed": false
   },
   "outputs": [
    {
     "name": "stdout",
     "output_type": "stream",
     "text": [
      "(2306871, 29)\n",
      "order_detail_id                 0\n",
      "order_id                        0\n",
      "order_total_num                 0\n",
      "order_amount                    0\n",
      "order_total_payment             0\n",
      "order_total_discount            0\n",
      "order_pay_time                  0\n",
      "order_status                    0\n",
      "order_count                     0\n",
      "is_customer_rate                0\n",
      "order_detail_status             0\n",
      "order_detail_goods_num          0\n",
      "order_detail_amount             0\n",
      "order_detail_payment            0\n",
      "order_detail_discount           0\n",
      "customer_province            1139\n",
      "customer_city                1150\n",
      "member_id                       0\n",
      "customer_id                     0\n",
      "customer_gender           1671081\n",
      "member_status             1671081\n",
      "is_member_actived         1671081\n",
      "goods_id                        0\n",
      "goods_class_id                  0\n",
      "goods_price                   436\n",
      "goods_status                    0\n",
      "goods_has_discount              0\n",
      "goods_list_time                 0\n",
      "goods_delist_time               0\n",
      "dtype: int64\n"
     ]
    }
   ],
   "source": [
    "raw = pd.read_csv(\"train.csv\")\n",
    "print(raw.shape)    #(2306871, 29)\n",
    "# 处理空缺值\n",
    "print(raw.isna().sum())   #customer_province customer_city goods_price少量空值, \n",
    "# raw"
   ]
  },
  {
   "cell_type": "code",
   "execution_count": 3,
   "metadata": {
    "collapsed": false
   },
   "outputs": [],
   "source": [
    "#将数据源排序, 按照支付时间排序, 准备按用户来分组求最后数据\n",
    "raw.sort_values(\"order_pay_time\",ascending=True, inplace=True)"
   ]
  },
  {
   "cell_type": "code",
   "execution_count": 4,
   "metadata": {
    "collapsed": false
   },
   "outputs": [
    {
     "name": "stdout",
     "output_type": "stream",
     "text": [
      "(2306871, 29)\n",
      "2013-08-31 23:59:59\n",
      "1435404\n",
      "Index(['order_detail_id', 'order_id', 'order_total_num', 'order_amount',\n",
      "       'order_total_payment', 'order_total_discount', 'order_pay_time',\n",
      "       'order_status', 'order_count', 'is_customer_rate',\n",
      "       'order_detail_status', 'order_detail_goods_num', 'order_detail_amount',\n",
      "       'order_detail_payment', 'order_detail_discount', 'customer_province',\n",
      "       'customer_city', 'member_id', 'customer_id', 'customer_gender',\n",
      "       'member_status', 'is_member_actived', 'goods_id', 'goods_class_id',\n",
      "       'goods_price', 'goods_status', 'goods_has_discount', 'goods_list_time',\n",
      "       'goods_delist_time'],\n",
      "      dtype='object')\n"
     ]
    },
    {
     "data": {
      "text/plain": [
       "173385"
      ]
     },
     "execution_count": 4,
     "metadata": {},
     "output_type": "execute_result"
    }
   ],
   "source": [
    "#数据探索\n",
    "print(raw.shape)   #总数据集  (2306871, 29)\n",
    "print(max(raw[\"order_pay_time\"]))  #最后下单时间: 2013-08-31 23:59:59\n",
    "#构建训练集\n",
    "train_raw = raw[raw[\"order_pay_time\"] <= \"2013-07-31 23:59:59\"]\n",
    "train_raw.shape  # 七月份订单(2080703, 29)\n",
    "print(len(set(raw[raw[\"order_pay_time\"] <= \"2013-07-31 23:59:59\"][\"customer_id\"])))\n",
    "#train 用户  用户数 1435404\n",
    "raw[raw[\"order_pay_time\"]>\"2013-07-31 23:59:59\"].shape  \n",
    "#八月份订单数量 (226168, 29)\n",
    "print(raw.columns)\n",
    "label_raw = set(raw[raw[\"order_pay_time\"]>\"2013-07-31 23:59:59\"][\"customer_id\"])\n",
    "len(label_raw)  # 八月份共有173385 个用户下单"
   ]
  },
  {
   "cell_type": "code",
   "execution_count": 5,
   "metadata": {
    "collapsed": false
   },
   "outputs": [],
   "source": [
    "#特征工程\n",
    "\n",
    "def preprocessing(raw):\n",
    "    #处理数据, 创建一个新的df\n",
    "    # raw = add_features(raw)\n",
    "    data = pd.DataFrame(raw.groupby(\"customer_id\")[\"customer_gender\"].last().fillna(0))\n",
    "    #商品相关（最后一次行为）\n",
    "    data[[ 'goods_id_last', 'goods_class_id_last',\n",
    "       'goods_price_last', 'goods_status_last', 'goods_has_discount_last', 'goods_list_time_last',\n",
    "       'goods_delist_time_last']] = raw.groupby(\"customer_id\")[[ 'goods_id', 'goods_class_id',\n",
    "       'goods_price', 'goods_status', 'goods_has_discount', 'goods_list_time',\n",
    "       'goods_delist_time']].last()\n",
    "    #订单相关(最后一次行为)\n",
    "    data[['order_detail_id_last', 'order_id_last', 'order_total_num_last', 'order_amount_last',\n",
    "       'order_total_payment_last', 'order_total_discount_last', 'order_pay_time_last',\n",
    "       'order_status_last', 'order_count_last', 'is_customer_rate_last',\n",
    "       'order_detail_status_last', 'order_detail_goods_num_last', 'order_detail_amount_last',\n",
    "       'order_detail_payment_last', 'order_detail_discount_last']] = \\\n",
    "       raw.groupby(\"customer_id\")[['order_detail_id', 'order_id', 'order_total_num', 'order_amount',\n",
    "       'order_total_payment', 'order_total_discount', 'order_pay_time',\n",
    "       'order_status', 'order_count', 'is_customer_rate',\n",
    "       'order_detail_status', 'order_detail_goods_num', 'order_detail_amount',\n",
    "       'order_detail_payment', 'order_detail_discount']].last()\n",
    "    # 订单原始价格（多种统计字段）\n",
    "    data[[\"order_amount_min\",\"order_amount_max\",\"order_amount_mean\",\"order_amount_std\"]] = \\\n",
    "          raw.groupby(\"customer_id\")[\"order_amount\"].agg([np.min,np.max, np.mean, np.std]).fillna(0)\n",
    "    # 订单实付金额（多种统计字段）\n",
    "    data[[\"order_total_payment_min\",\"order_total_payment_max\",\"order_total_payment_mean\",\"order_total_payment_std\"]] = \\\n",
    "          raw.groupby(\"customer_id\")[\"order_total_payment\"].agg([np.min,np.max,np.mean,np.std]).fillna(0)\n",
    "    # 订单实付金额 统计属性（sum, mean）\n",
    "    data[[\"order_total_discount_mean\",\"order_total_discount_sum\"]] = raw.groupby(\"customer_id\")[\"order_total_discount\"].agg([np.mean, np.sum])\n",
    "\n",
    "    # 用户购买的订单数量\n",
    "    data[\"order_id_count\"] = raw.groupby(\"customer_id\")[\"order_id\"].count()\n",
    "\n",
    "    # # 最后一次下单时间间隔, 最后一次, 平均时间间隔\n",
    "    # data[\"days_since_prior_order_last\"] = raw.groupby(\"customer_id\")[\"days_since_prior_order\"].last()\n",
    "    # data[\"days_since_prior_order_mean\"] = raw.groupby(\"customer_id\")[\"days_since_prior_order\"].mean()\n",
    "    # data[\"days_since_prior_order_mean\"] = raw.groupby(\"customer_id\")[\"days_since_prior_order\"].mean()\n",
    "\n",
    "    ##用户状态信息\n",
    "    # 用户所在省份 把省份的空值直接当成一个特征值\n",
    "    data[\"customer_province_last\"] = raw.groupby(\"customer_id\")[\"customer_province\"].last().fillna(str(0))\n",
    "    # 用户所在城市 把city的空值直接当成一个特征值\n",
    "    data[\"customer_city_last\"] = raw.groupby(\"customer_id\")[\"customer_city\"].last().fillna(str(0))\n",
    "    # 用户会员状态, 对缺值列构建一个新特征\n",
    "    data[\"member_status\"] = raw.groupby(\"customer_id\")[\"member_status\"].last().fillna(0)\n",
    "    data[\"member_status_default\"] = [ 0 if i ==1 else 1 for i in data[\"member_status\"] ]\n",
    " \n",
    "    # 用户是否评价 统计结果（平均，总和）\n",
    "    data[[\"is_customer_rate_mean\",\"is_customer_rate_sum\"]] = raw.groupby(\"customer_id\")[\"is_customer_rate\"].agg([np.mean, np.sum])\n",
    "    data[\"is_customer_rate_count\"] = raw.groupby(\"customer_id\")[\"is_customer_rate\"].count()\n",
    "\n",
    "    # 用户购买的商品数量\n",
    "    data[\"good_id_count\"] = raw.groupby(\"customer_id\")[\"goods_id\"].count()\n",
    "    # 商品原始价格(多重统计字段)\n",
    "    data[[\"goods_price_min\",\"goods_price_max\",\"goods_price_mean\",\"goods_price_std\"]] = \\\n",
    "          raw.groupby(\"customer_id\")[\"goods_price\"].agg([np.min,np.max, np.mean, np.std]).fillna(0)\n",
    "    # 商品折扣统计属性（sum, mean）\n",
    "    data[[\"goods_has_discount_mean\",\"goods_has_discount_sum\"]] = raw.groupby(\"customer_id\")[\"goods_has_discount\"].agg([np.mean, np.sum])\n",
    "\n",
    "    # 付款时间（时间多尺度，时间diff）\n",
    "    start_time = pd.to_datetime(\"2012-11-01 00:00:07\")\n",
    "    data[\"order_pay_time_last\"] = pd.to_datetime(data[\"order_pay_time_last\"])\n",
    "    data[\"order_pay_time_last_month\"]  = data[\"order_pay_time_last\"].dt.month\n",
    "    data[\"order_pay_time_last_day\"]  = data[\"order_pay_time_last\"].dt.day\n",
    "    data[\"order_pay_time_last_hour\"]  = data[\"order_pay_time_last\"].dt.hour\n",
    "    data[\"order_pay_time_last_minute\"]  = data[\"order_pay_time_last\"].dt.minute\n",
    "    data[\"order_pay_time_last_weekday\"]  = data[\"order_pay_time_last\"].dt.weekday\n",
    "    # 付款时间diff, 最小时间 \"2012-11-01 00:00:07\", 用户最后一次下单时间距离最早统计事件的间隔\n",
    "    data[\"order_pay_time_last_delta\"] = (data[\"order_pay_time_last\"] - start_time).dt.days\n",
    "    # 商品最新上架时间diff（假设起始时间为\"2012-11-01 00:00:07\"）\n",
    "\n",
    "    data[\"goods_list_time_last\"] = pd.to_datetime(data[\"goods_list_time_last\"])\n",
    "    data[\"goods_list_time_last_delta\"] = (data[\"goods_list_time_last\"] - start_time).dt.days\n",
    "    # 商品最新下架时间diff（假设起始时间为\"2012-11-01 00:00:07\"）\n",
    "    data[\"goods_delist_time_last\"] = pd.to_datetime(data[\"goods_delist_time_last\"]) \n",
    "    data[\"goods_delist_time_last_delta\"] = (data[\"goods_delist_time_last\"] - start_time).dt.days\n",
    "    # 商品展示时间（下架时间-上架时间）\n",
    "    data[\"good_display_time\"] = (data[\"goods_delist_time_last\"] - data[\"goods_list_time_last\"]).dt.days\n",
    "\n",
    "    #删除多余特征, 无效分析的\n",
    "    data.drop([\"order_pay_time_last\",\"goods_list_time_last\",\"goods_delist_time_last\"],axis=1,inplace=True)\n",
    "\n",
    "    \n",
    "    return data\n"
   ]
  },
  {
   "cell_type": "code",
   "execution_count": 6,
   "metadata": {
    "collapsed": false
   },
   "outputs": [
    {
     "name": "stdout",
     "output_type": "stream",
     "text": [
      "(1435404, 54)\n"
     ]
    }
   ],
   "source": [
    "train = preprocessing(train_raw)\n",
    "print(train.shape)  #构造了共计54个特征"
   ]
  },
  {
   "cell_type": "code",
   "execution_count": 32,
   "metadata": {
    "collapsed": false
   },
   "outputs": [],
   "source": [
    "# train.head()"
   ]
  },
  {
   "cell_type": "code",
   "execution_count": 33,
   "metadata": {
    "collapsed": false
   },
   "outputs": [
    {
     "data": {
      "text/plain": [
       "0    1412601\n",
       "1      22803\n",
       "Name: label, dtype: int64"
      ]
     },
     "execution_count": 33,
     "metadata": {},
     "output_type": "execute_result"
    }
   ],
   "source": [
    "# 为训练集数据添加标签, 在8月份购买了为1, 每购买则为0\n",
    "train[\"label\"] = train.index.map(lambda x: int(x in label_raw))\n",
    "train[\"label\"].value_counts()  #8月购买的有22803, 没购买的1312601\n",
    "# train.info()"
   ]
  },
  {
   "cell_type": "code",
   "execution_count": 34,
   "metadata": {
    "collapsed": false
   },
   "outputs": [],
   "source": [
    "#构造测试集数据:\n",
    "test = preprocessing(raw)"
   ]
  },
  {
   "cell_type": "code",
   "execution_count": 35,
   "metadata": {
    "collapsed": false
   },
   "outputs": [
    {
     "name": "stdout",
     "output_type": "stream",
     "text": [
      "Index(['customer_province_last', 'customer_city_last'], dtype='object')\n",
      "customer_province_last\n",
      "customer_city_last\n"
     ]
    }
   ],
   "source": [
    "#对类别特征做labelEncoder\n",
    "print(train.select_dtypes(\"O\").columns)\n",
    "label_features = ['customer_province_last', 'customer_city_last']\n",
    "\n",
    "encoders = []\n",
    "for feat in label_features:\n",
    "  print(feat)\n",
    "  enc = LabelEncoder()\n",
    "  test[feat] = enc.fit_transform(test[feat])\n",
    "  encoders.append(enc)\n",
    "\n",
    "for i,feat in enumerate(label_features):\n",
    "  train[feat] = encoders[i].transform(train[feat])\n",
    "\n",
    "# test[label_features]"
   ]
  },
  {
   "cell_type": "code",
   "execution_count": 30,
   "metadata": {
    "collapsed": false
   },
   "outputs": [
    {
     "name": "stdout",
     "output_type": "stream",
     "text": [
      "[LightGBM] [Warning] Accuracy may be bad since you didn't explicitly set num_leaves OR 2^max_depth > num_leaves. (num_leaves=31).\n",
      "[LightGBM] [Warning] Accuracy may be bad since you didn't explicitly set num_leaves OR 2^max_depth > num_leaves. (num_leaves=31).\n",
      "[LightGBM] [Info] Number of positive: 18303, number of negative: 1130020\n",
      "[LightGBM] [Warning] Auto-choosing col-wise multi-threading, the overhead of testing was 1.482605 seconds.\n",
      "You can set `force_col_wise=true` to remove the overhead.\n",
      "[LightGBM] [Info] Total Bins 7723\n",
      "[LightGBM] [Info] Number of data points in the train set: 1148323, number of used features: 54\n",
      "[LightGBM] [Warning] Accuracy may be bad since you didn't explicitly set num_leaves OR 2^max_depth > num_leaves. (num_leaves=31).\n",
      "[LightGBM] [Info] [binary:BoostFromScore]: pavg=0.015939 -> initscore=-4.122926\n",
      "[LightGBM] [Info] Start training from score -4.122926\n",
      "Training until validation scores don't improve for 200 rounds\n",
      "[25]\ttraining's auc: 0.791325\tvalid_1's auc: 0.784718\n",
      "[50]\ttraining's auc: 0.793722\tvalid_1's auc: 0.786721\n",
      "[75]\ttraining's auc: 0.797172\tvalid_1's auc: 0.790401\n",
      "[100]\ttraining's auc: 0.799352\tvalid_1's auc: 0.792597\n",
      "[125]\ttraining's auc: 0.800488\tvalid_1's auc: 0.793859\n",
      "[150]\ttraining's auc: 0.802439\tvalid_1's auc: 0.795582\n",
      "[175]\ttraining's auc: 0.803506\tvalid_1's auc: 0.796055\n",
      "[200]\ttraining's auc: 0.805132\tvalid_1's auc: 0.796979\n",
      "[225]\ttraining's auc: 0.806823\tvalid_1's auc: 0.79793\n",
      "[250]\ttraining's auc: 0.808222\tvalid_1's auc: 0.798701\n",
      "[275]\ttraining's auc: 0.809406\tvalid_1's auc: 0.799473\n",
      "[300]\ttraining's auc: 0.810726\tvalid_1's auc: 0.800207\n",
      "[325]\ttraining's auc: 0.811857\tvalid_1's auc: 0.800777\n",
      "[350]\ttraining's auc: 0.813148\tvalid_1's auc: 0.801066\n",
      "[375]\ttraining's auc: 0.814468\tvalid_1's auc: 0.801604\n",
      "[400]\ttraining's auc: 0.815485\tvalid_1's auc: 0.801902\n",
      "[425]\ttraining's auc: 0.816493\tvalid_1's auc: 0.80211\n",
      "[450]\ttraining's auc: 0.817705\tvalid_1's auc: 0.802335\n",
      "[475]\ttraining's auc: 0.818804\tvalid_1's auc: 0.802489\n",
      "[500]\ttraining's auc: 0.819839\tvalid_1's auc: 0.802719\n",
      "[525]\ttraining's auc: 0.820778\tvalid_1's auc: 0.802828\n",
      "[550]\ttraining's auc: 0.822109\tvalid_1's auc: 0.802846\n",
      "[575]\ttraining's auc: 0.822891\tvalid_1's auc: 0.802852\n",
      "[600]\ttraining's auc: 0.823851\tvalid_1's auc: 0.802838\n"
     ]
    }
   ],
   "source": [
    "#用lightgbm训练\n",
    "import lightgbm as lgb\n",
    "from sklearn.model_selection import train_test_split\n",
    "# param = {\n",
    "#     'num_leaves':41,\n",
    "#     'boosting_type': 'gbdt',\n",
    "#     'objective':'binary',\n",
    "#     'max_depth':15,\n",
    "#     'learning_rate':0.001,\n",
    "#     'metric':'binary_logloss'}\n",
    "param = {'boosting_type':'gbdt',\n",
    "                         'objective' : 'binary', #\n",
    "                         #'metric' : 'binary_logloss',\n",
    "                         'metric' : 'auc',\n",
    "#                          'metric' : 'self_metric',\n",
    "                         'learning_rate' : 0.01,\n",
    "                         'max_depth' : 15,\n",
    "                         'feature_fraction':0.8,\n",
    "                         'bagging_fraction': 0.9,\n",
    "                         'bagging_freq': 8,\n",
    "                         'lambda_l1': 0.6,\n",
    "                         'lambda_l2': 0,\n",
    "#                          'scale_pos_weight':k,\n",
    "#                         'is_unbalance':True\n",
    "        }\n",
    "\n",
    "X_train, X_valid, y_train, y_valid = train_test_split(train.drop('label',axis=1), train['label'], test_size=0.2, random_state=42)\n",
    "train_data = lgb.Dataset(X_train, label=y_train)\n",
    "valid_data = lgb.Dataset(X_valid, label=y_valid)\n",
    "\n",
    "model = lgb.train(param,train_data,valid_sets=[train_data,valid_data],num_boost_round = 10000 ,early_stopping_rounds=200,verbose_eval=25)\n",
    "#保存模型\n",
    "model.save_model(\"model.txt\")"
   ]
  },
  {
   "cell_type": "code",
   "execution_count": 17,
   "metadata": {
    "collapsed": false
   },
   "outputs": [],
   "source": [
    "#预测结果, 给test添加label\n",
    "predict=model.predict(test)\n",
    "predict"
   ]
  },
  {
   "cell_type": "code",
   "execution_count": null,
   "metadata": {
    "collapsed": false
   },
   "outputs": [],
   "source": [
    "#选取合适的值作为阈值, 将输出概率转成分类\n",
    "#关键是控制多少人为下月可能购买, 或者不购买\n",
    "test[\"label\"] = predict\n"
   ]
  },
  {
   "cell_type": "code",
   "execution_count": null,
   "metadata": {
    "collapsed": false
   },
   "outputs": [],
   "source": [
    "#通过观察数据, 过去7月购买的用户在8月份仅有22803, 没有购买的有1412601,\n",
    "#而8月购买的用户数为173385万人,说明8月有150582人, 新用户次月购买比例高, \n",
    "#加上往期购买人数看, 老用户再次下单人数在350000左右, 因此, 建议阈值设置为50万\n",
    "threshold = test.label.sort_values(ascending=False).iloc[500000]\n",
    "test['label'] = test[\"label\"].map(lambda x: 1 if x>threshold else 0 )"
   ]
  },
  {
   "cell_type": "code",
   "execution_count": null,
   "metadata": {
    "collapsed": false
   },
   "outputs": [],
   "source": [
    "submit = pd.read_csv(\"submission.csv\")\n",
    "submission = submit.set_index(\"customer_id\").join(test[\"label\"]).drop(\"result\",axis=1).reset_index()\n",
    "submission.columns = submit.columns\n",
    "submission\n",
    "\n",
    "#结果保存\n",
    "submission.to_csv(\"lgb_submission.csv\",index=False)"
   ]
  },
  {
   "cell_type": "markdown",
   "metadata": {
    "collapsed": false
   },
   "source": [
    "请点击[此处](https://ai.baidu.com/docs#/AIStudio_Project_Notebook/a38e5576)查看本环境基本用法.  <br>\n",
    "Please click [here ](https://ai.baidu.com/docs#/AIStudio_Project_Notebook/a38e5576) for more detailed instructions. "
   ]
  }
 ],
 "metadata": {
  "kernelspec": {
   "display_name": "PaddlePaddle 2.1.2 (Python 3.5)",
   "language": "python",
   "name": "py35-paddle1.2.0"
  },
  "language_info": {
   "codemirror_mode": {
    "name": "ipython",
    "version": 3
   },
   "file_extension": ".py",
   "mimetype": "text/x-python",
   "name": "python",
   "nbconvert_exporter": "python",
   "pygments_lexer": "ipython3",
   "version": "3.7.4"
  }
 },
 "nbformat": 4,
 "nbformat_minor": 1
}
